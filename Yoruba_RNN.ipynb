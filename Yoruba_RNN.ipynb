{
  "nbformat": 4,
  "nbformat_minor": 0,
  "metadata": {
    "colab": {
      "name": "Yoruba_RNN.ipynb",
      "provenance": [],
      "collapsed_sections": [],
      "mount_file_id": "1XiJbrxbRH767u2UJ8VhXBEzioZpbVM00",
      "authorship_tag": "ABX9TyNrJBMpP7+3/d9KtH7h3e/J",
      "include_colab_link": true
    },
    "kernelspec": {
      "display_name": "Python 3",
      "name": "python3"
    }
  },
  "cells": [
    {
      "cell_type": "markdown",
      "metadata": {
        "id": "view-in-github",
        "colab_type": "text"
      },
      "source": [
        "<a href=\"https://colab.research.google.com/github/kabirat/Eglish-Language---Yoruba-Language-Translation/blob/main/Yoruba_RNN.ipynb\" target=\"_parent\"><img src=\"https://colab.research.google.com/assets/colab-badge.svg\" alt=\"Open In Colab\"/></a>"
      ]
    },
    {
      "cell_type": "code",
      "metadata": {
        "id": "o7MXDPmNzOmQ",
        "colab": {
          "base_uri": "https://localhost:8080/"
        },
        "outputId": "7c040c3e-8b97-41d3-d9c0-002d04821116"
      },
      "source": [
        "%load_ext autoreload\n",
        "#%aimport helper, tests\n",
        "%autoreload 1"
      ],
      "execution_count": 14,
      "outputs": [
        {
          "output_type": "stream",
          "text": [
            "The autoreload extension is already loaded. To reload it, use:\n",
            "  %reload_ext autoreload\n"
          ],
          "name": "stdout"
        }
      ]
    },
    {
      "cell_type": "code",
      "metadata": {
        "id": "rk1RaIPLmgyp"
      },
      "source": [
        "import collections\n",
        "import numpy as np\n",
        "import os\n",
        "from tensorflow.keras.preprocessing.text import Tokenizer\n",
        "from tensorflow.keras.preprocessing.sequence import pad_sequences\n",
        "from tensorflow.keras.models import Sequential, Model\n",
        "from tensorflow.keras.layers import GRU, Input, Dense, TimeDistributed, Activation, RepeatVector, Bidirectional, Dropout, LSTM\n",
        "from keras.layers.embeddings import Embedding\n",
        "from tensorflow.keras.optimizers import Adam\n",
        "from tensorflow.keras.losses import sparse_categorical_crossentropy\n",
        "from tensorflow.keras.preprocessing.text import Tokenizer\n",
        "from tensorflow.keras.utils import to_categorical\n",
        "from keras.models import Sequential"
      ],
      "execution_count": 15,
      "outputs": []
    },
    {
      "cell_type": "code",
      "metadata": {
        "id": "9PvJVp5qfJhP"
      },
      "source": [
        ""
      ],
      "execution_count": null,
      "outputs": []
    },
    {
      "cell_type": "markdown",
      "metadata": {
        "id": "8_Ai0hT3r1nT"
      },
      "source": [
        "Function Definition for text processing"
      ]
    },
    {
      "cell_type": "code",
      "metadata": {
        "id": "NRKflwdJry8a"
      },
      "source": [
        "def test_tokenize(tokenize):\n",
        "    sentences = [\n",
        "        'The quick brown fox jumps over the lazy dog .',\n",
        "        'By Jove , my quick study of lexicography won a prize .',\n",
        "        'This is a short sentence .']\n",
        "    tokenized_sentences, tokenizer = tokenize(sentences)\n",
        "    assert tokenized_sentences == tokenizer.texts_to_sequences(sentences),\\\n",
        "        'Tokenizer returned and doesn\\'t generate the same sentences as the tokenized sentences returned. '\n",
        "\n",
        "\n",
        "def test_pad(pad):\n",
        "    tokens = [\n",
        "        [i for i in range(4)],\n",
        "        [i for i in range(6)],\n",
        "        [i for i in range(3)]]\n",
        "    padded_tokens = pad(tokens)\n",
        "    padding_id = padded_tokens[0][-1]\n",
        "    true_padded_tokens = np.array([\n",
        "        [i for i in range(4)] + [padding_id]*2,\n",
        "        [i for i in range(6)],\n",
        "        [i for i in range(3)] + [padding_id]*3])\n",
        "    assert isinstance(padded_tokens, np.ndarray),\\\n",
        "        'Pad returned the wrong type.  Found {} type, expected numpy array type.'\n",
        "    assert np.all(padded_tokens == true_padded_tokens), 'Pad returned the wrong results.'\n",
        "\n",
        "    padded_tokens_using_length = pad(tokens, 9)\n",
        "    assert np.all(padded_tokens_using_length == np.concatenate((true_padded_tokens, np.full((3, 3), padding_id)), axis=1)),\\\n",
        "        'Using length argument return incorrect results'\n"
      ],
      "execution_count": 38,
      "outputs": []
    },
    {
      "cell_type": "markdown",
      "metadata": {
        "id": "tSwfCmvAoOHZ"
      },
      "source": [
        "Encoder - Decoder Function"
      ]
    },
    {
      "cell_type": "code",
      "metadata": {
        "id": "zjWI6Fu3MEzK"
      },
      "source": [
        "def _test_model(model, input_shape, output_sequence_length, yoruba_vocab_size):\n",
        "    #if isinstance(model, Sequential):\n",
        "        #model = model.model\n",
        "\n",
        "    assert model.input_shape == (None, *input_shape[1:]),\\\n",
        "        'Wrong input shape. Found input shape {} using parameter input_shape={}'.format(model.input_shape, input_shape)\n",
        "\n",
        "    assert model.output_shape == (None, output_sequence_length, yoruba_vocab_size),\\\n",
        "        'Wrong output shape. Found output shape {} using parameters output_sequence_length={} and yoruba_vocab_size={}'\\\n",
        "            .format(model.output_shape, output_sequence_length, yoruba_vocab_size)\n",
        "\n",
        "    #assert len(model.loss_functions) > 0,\\\n",
        "       # 'No loss function set.  Apply the `compile` function to the model.'\n",
        "\n",
        "    #assert sparse_categorical_crossentropy in model.loss_functions,\\\n",
        "       # 'Not using `sparse_categorical_crossentropy` function for loss.'\n",
        "\n",
        "def test_simple_model(simple_model):\n",
        "    input_shape = (137861, 21, 1)\n",
        "    output_sequence_length = 21\n",
        "    english_vocab_size = 199\n",
        "    yoruba_vocab_size = 344\n",
        "\n",
        "    model = simple_model(input_shape, output_sequence_length, english_vocab_size, yoruba_vocab_size)\n",
        "    # summarize defined model\n",
        "    print(model.summary())\n",
        "    _test_model(model, input_shape, output_sequence_length, yoruba_vocab_size)\n",
        "\n",
        "\n",
        "def test_embed_model(embed_model):\n",
        "    input_shape = (137861, 21)\n",
        "    output_sequence_length = 21\n",
        "    english_vocab_size = 199\n",
        "    yoruba_vocab_size = 344\n",
        "\n",
        "    model = embed_model(input_shape, output_sequence_length, english_vocab_size, yoruba_vocab_size)\n",
        "    _test_model(model, input_shape, output_sequence_length, yoruba_vocab_size)\n",
        "\n",
        "\n",
        "def test_encdec_model(encdec_model):\n",
        "    input_shape = (137861, 15, 1)\n",
        "    output_sequence_length = 21\n",
        "    english_vocab_size = 199\n",
        "    yoruba_vocab_size = 344\n",
        "\n",
        "    model = encdec_model(input_shape, output_sequence_length, english_vocab_size, yoruba_vocab_size)\n",
        "    _test_model(model, input_shape, output_sequence_length, yoruba_vocab_size)\n",
        "\n",
        "\n",
        "def test_bd_model(bd_model):\n",
        "    input_shape = (137861, 21, 1)\n",
        "    output_sequence_length = 21\n",
        "    english_vocab_size = 199\n",
        "    yoruba_vocab_size = 344\n",
        "\n",
        "    model = bd_model(input_shape, output_sequence_length, english_vocab_size, yoruba_vocab_size)\n",
        "    _test_model(model, input_shape, output_sequence_length, yoruba_vocab_size)\n",
        "\n",
        "\n",
        "def test_model_final(model_final):\n",
        "    input_shape = (137861, 15)\n",
        "    output_sequence_length = 21\n",
        "    english_vocab_size = 199\n",
        "    yoruba_vocab_size = 344\n",
        "\n",
        "    model = model_final(input_shape, output_sequence_length, english_vocab_size, yoruba_vocab_size)\n",
        "    _test_model(model, input_shape, output_sequence_length, yoruba_vocab_size)"
      ],
      "execution_count": 17,
      "outputs": []
    },
    {
      "cell_type": "markdown",
      "metadata": {
        "id": "AZiOWgVCmYrN"
      },
      "source": [
        "Introduction\n",
        "In this notebook, you will build a deep neural network that functions as part of an end-to-end machine translation pipeline. Your completed pipeline will accept English text as input and return the yoruba translation.\n",
        "\n",
        "Preprocess - You'll convert text to sequence of integers.\n",
        "Models Create models which accepts a sequence of integers as input and returns a probability distribution over possible translations. After learning about the basic types of neural networks that are often used for machine translation, you will engage in your own investigations, to design your own model!\n",
        "Prediction Run the model on English text."
      ]
    },
    {
      "cell_type": "markdown",
      "metadata": {
        "id": "rC8xC2mvmt3W"
      },
      "source": [
        "Verify access to the GPU\n",
        "The following test applies only if you expect to be using a GPU, e.g., while running in a Udacity Workspace or using an AWS instance with GPU support. Run the next cell, and verify that the device_type is \"GPU\".\n",
        "\n",
        "If the device is not GPU & you are running from a Udacity Workspace, then save your workspace with the icon at the top, then click \"enable\" at the bottom of the workspace.\n",
        "If the device is not GPU & you are running from an AWS instance, then refer to the cloud computing instructions in the classroom to verify your setup steps."
      ]
    },
    {
      "cell_type": "code",
      "metadata": {
        "id": "u3jsNHnEmn1j",
        "colab": {
          "base_uri": "https://localhost:8080/"
        },
        "outputId": "1303f50f-11e8-48e5-e700-503d466e7cd4"
      },
      "source": [
        "import tensorflow as tf\n",
        "tf.__version__\n",
        "\n",
        "#'1.6.0-rc1'\n",
        "\n",
        "from tensorflow.python.client import device_lib\n",
        "print(device_lib.list_local_devices())"
      ],
      "execution_count": 18,
      "outputs": [
        {
          "output_type": "stream",
          "text": [
            "[name: \"/device:CPU:0\"\n",
            "device_type: \"CPU\"\n",
            "memory_limit: 268435456\n",
            "locality {\n",
            "}\n",
            "incarnation: 12790408832399026472\n",
            "]\n"
          ],
          "name": "stdout"
        }
      ]
    },
    {
      "cell_type": "markdown",
      "metadata": {
        "id": "gTukP5Nqm2ZA"
      },
      "source": [
        "Load Data\n",
        "The data is located in data/small_vocab_en and data/small_vocab_fr. The small_vocab_en file contains English sentences with their yoruba translations in the small_vocab_fr file. Load the English and yoruba data from these files from running the cell below."
      ]
    },
    {
      "cell_type": "code",
      "metadata": {
        "id": "cO38iZlAm3cb",
        "colab": {
          "base_uri": "https://localhost:8080/"
        },
        "outputId": "110045eb-e0e0-4211-83ee-5e2e96d7ca69"
      },
      "source": [
        "# Load English data\n",
        "with open(\"drive/My Drive/small_vocab_en.txt\",encoding= 'unicode_escape') as f: #Read Yoruba Text\n",
        "    english_sentences = \"\".join(f.readlines()).split('\\n')\n",
        "# Load Yoruba data\n",
        "with open(\"drive/My Drive/small_vocab_yr.txt\",encoding= 'UTF-8') as f: #Read Yoruba Text\n",
        "    yoruba_sentences = \"\".join(f.readlines()).split('\\n')\n",
        "\n",
        "print('Dataset Loaded')"
      ],
      "execution_count": 54,
      "outputs": [
        {
          "output_type": "stream",
          "text": [
            "Dataset Loaded\n"
          ],
          "name": "stdout"
        }
      ]
    },
    {
      "cell_type": "markdown",
      "metadata": {
        "id": "kBTF0CfFnADg"
      },
      "source": [
        "Files\n",
        "Each line in small_vocab_en contains an English sentence with the respective translation in each line of small_vocab_fr. View the first two lines from each file."
      ]
    },
    {
      "cell_type": "code",
      "metadata": {
        "id": "MV9gcAJKnHEW",
        "colab": {
          "base_uri": "https://localhost:8080/"
        },
        "outputId": "ef2e16f2-45ed-4883-d0a1-1544b69ee8b3"
      },
      "source": [
        "for sample_i in range(5):\n",
        "    print('English sample {}:  {}'.format(sample_i + 1, english_sentences[sample_i]))\n",
        "    print('yoruba sample {}:  {}\\n'.format(sample_i + 1, yoruba_sentences[sample_i]))"
      ],
      "execution_count": 55,
      "outputs": [
        {
          "output_type": "stream",
          "text": [
            "English sample 1:  Using Ladders â Do You Make These Safety Checks ?\n",
            "yoruba sample 1:  Lílo Àkàbà — Ǹjẹ́ O Máa Ń Ṣe Àyẹ̀wò Wọ̀nyí Tó Lè Dáàbò Bò Ẹ́ ?\n",
            "\n",
            "English sample 2:  By Awake !\n",
            "yoruba sample 2:  Látọwọ́ akọ̀ròyìn Jí !\n",
            "\n",
            "English sample 3:  correspondent in Ireland\n",
            "yoruba sample 3:  ní Ireland\n",
            "\n",
            "English sample 4:  PAUL needed to change a bulb in an outside light fixture of his house .\n",
            "yoruba sample 4:  PAUL fẹ́ pààrọ̀ gílóòbù iná tó wà lóde ilé ẹ̀ .\n",
            "\n",
            "English sample 5:  He also needed to clean the outside upstairs windows â his wife had mentioned this several times .\n",
            "yoruba sample 5:  Ó tún fẹ́ nu àwọn fèrèsé pẹ̀tẹ́ẹ̀sì lọ́wọ́ ita — ó ti pẹ́ tíyàwó ẹ̀ ti ń sọ pé wọ́n ti dọ̀tí .\n",
            "\n"
          ],
          "name": "stdout"
        }
      ]
    },
    {
      "cell_type": "markdown",
      "metadata": {
        "id": "hrX_H7b3nl1J"
      },
      "source": [
        "From looking at the sentences, you can see they have been preprocessed already. The puncuations have been delimited using spaces. All the text have been converted to lowercase. This should save you some time, but the text requires more preprocessing.\n",
        "\n",
        "Vocabulary\n",
        "The complexity of the problem is determined by the complexity of the vocabulary. A more complex vocabulary is a more complex problem. Let's look at the complexity of the dataset we'll be working with."
      ]
    },
    {
      "cell_type": "code",
      "metadata": {
        "id": "OvV4oI0PnsKq",
        "colab": {
          "base_uri": "https://localhost:8080/"
        },
        "outputId": "94a4e5d8-3c24-49f6-8f5e-873f67cea8a4"
      },
      "source": [
        "english_words_counter = collections.Counter([word for sentence in english_sentences for word in sentence.split()])\n",
        "yoruba_words_counter = collections.Counter([word for sentence in yoruba_sentences for word in sentence.split()])\n",
        "\n",
        "print('{} English words.'.format(len([word for sentence in english_sentences for word in sentence.split()])))\n",
        "print('{} unique English words.'.format(len(english_words_counter)))\n",
        "print('10 Most common words in the English dataset:')\n",
        "print('\"' + '\" \"'.join(list(zip(*english_words_counter.most_common(10)))[0]) + '\"')\n",
        "print()\n",
        "print('{} yoruba words.'.format(len([word for sentence in yoruba_sentences for word in sentence.split()])))\n",
        "print('{} unique yoruba words.'.format(len(yoruba_words_counter)))\n",
        "print('10 Most common words in the yoruba dataset:')\n",
        "print('\"' + '\" \"'.join(list(zip(*yoruba_words_counter.most_common(10)))[0]) + '\"')"
      ],
      "execution_count": 56,
      "outputs": [
        {
          "output_type": "stream",
          "text": [
            "8085776 English words.\n",
            "69781 unique English words.\n",
            "10 Most common words in the English dataset:\n",
            "\".\" \",\" \"the\" \"to\" \"of\" \"and\" \"in\" \"a\" \"that\" \"â\"\n",
            "\n",
            "10558055 yoruba words.\n",
            "51275 unique yoruba words.\n",
            "10 Most common words in the yoruba dataset:\n",
            "\",\" \".\" \"tó\" \"ń\" \"àwọn\" \"pé\" \"tí\" \"ṣe\" \"ní\" \"máa\"\n"
          ],
          "name": "stdout"
        }
      ]
    },
    {
      "cell_type": "markdown",
      "metadata": {
        "id": "LpKIiANmn1QD"
      },
      "source": [
        "Preprocess\n",
        "For this project, you won't use text data as input to your model. Instead, you'll convert the text into sequences of integers using the following preprocess methods:\n",
        "\n",
        "Tokenize the words into ids\n",
        "Add padding to make all the sequences the same length.\n",
        "Time to start preprocessing the data...\n",
        "\n",
        "Tokenize (IMPLEMENTATION)\n",
        "For a neural network to predict on text data, it first has to be turned into data it can understand. Text data like \"dog\" is a sequence of ASCII character encodings. Since a neural network is a series of multiplication and addition operations, the input data needs to be number(s).\n",
        "\n",
        "We can turn each character into a number or each word into a number. These are called character and word ids, respectively. Character ids are used for character level models that generate text predictions for each character. A word level model uses word ids that generate text predictions for each word. Word level models tend to learn better, since they are lower in complexity, so we'll use those.\n",
        "\n",
        "Turn each sentence into a sequence of words ids using Keras's Tokenizer function. Use this function to tokenize english_sentences and yoruba_sentences in the cell below.\n",
        "\n",
        "Running the cell will run tokenize on sample data and show output for debugging."
      ]
    },
    {
      "cell_type": "code",
      "metadata": {
        "id": "jhXm1k3Rn7Pn",
        "colab": {
          "base_uri": "https://localhost:8080/"
        },
        "outputId": "b10cc549-8985-4131-916b-d058c9d4912f"
      },
      "source": [
        "def tokenize(x):\n",
        "    \"\"\"\n",
        "    Tokenize x\n",
        "    :param x: List of sentences/strings to be tokenized\n",
        "    :return: Tuple of (tokenized x data, tokenizer used to tokenize x)\n",
        "    \"\"\"\n",
        "    # TODO: Implement\n",
        "    tokenizer = Tokenizer()\n",
        "    tokenizer.fit_on_texts(x)\n",
        "    return tokenizer.texts_to_sequences(x), tokenizer\n",
        "\n",
        "test_tokenize(tokenize)\n",
        "\n",
        "# Tokenize Example output\n",
        "text_sentences = [\n",
        "    'The quick brown fox jumps over the lazy dog .',\n",
        "    'By Jove , my quick study of lexicography won a prize .',\n",
        "    'This is a short sentence .']\n",
        "text_tokenized, text_tokenizer = tokenize(text_sentences)\n",
        "print(text_tokenizer.word_index)\n",
        "print()\n",
        "for sample_i, (sent, token_sent) in enumerate(zip(text_sentences, text_tokenized)):\n",
        "    print('Sequence {} in x'.format(sample_i + 1))\n",
        "    print('  Input:  {}'.format(sent))\n",
        "    print('  Output: {}'.format(token_sent))"
      ],
      "execution_count": 57,
      "outputs": [
        {
          "output_type": "stream",
          "text": [
            "{'the': 1, 'quick': 2, 'a': 3, 'brown': 4, 'fox': 5, 'jumps': 6, 'over': 7, 'lazy': 8, 'dog': 9, 'by': 10, 'jove': 11, 'my': 12, 'study': 13, 'of': 14, 'lexicography': 15, 'won': 16, 'prize': 17, 'this': 18, 'is': 19, 'short': 20, 'sentence': 21}\n",
            "\n",
            "Sequence 1 in x\n",
            "  Input:  The quick brown fox jumps over the lazy dog .\n",
            "  Output: [1, 2, 4, 5, 6, 7, 1, 8, 9]\n",
            "Sequence 2 in x\n",
            "  Input:  By Jove , my quick study of lexicography won a prize .\n",
            "  Output: [10, 11, 12, 2, 13, 14, 15, 16, 3, 17]\n",
            "Sequence 3 in x\n",
            "  Input:  This is a short sentence .\n",
            "  Output: [18, 19, 3, 20, 21]\n"
          ],
          "name": "stdout"
        }
      ]
    },
    {
      "cell_type": "markdown",
      "metadata": {
        "id": "FY50zMKToAG7"
      },
      "source": [
        "Padding (IMPLEMENTATION)\n",
        "When batching the sequence of word ids together, each sequence needs to be the same length. Since sentences are dynamic in length, we can add padding to the end of the sequences to make them the same length.\n",
        "\n",
        "Make sure all the English sequences have the same length and all the yoruba sequences have the same length by adding padding to the end of each sequence using Keras's pad_sequences function."
      ]
    },
    {
      "cell_type": "code",
      "metadata": {
        "id": "y5-Ze5X9oFm6",
        "colab": {
          "base_uri": "https://localhost:8080/"
        },
        "outputId": "cc70a1ef-b755-4cd4-cee3-0bfaf2886acc"
      },
      "source": [
        "def pad(x, length=None):\n",
        "    \"\"\"\n",
        "    Pad x\n",
        "    :param x: List of sequences.\n",
        "    :param length: Length to pad the sequence to.  If None, use length of longest sequence in x.\n",
        "    :return: Padded numpy array of sequences\n",
        "    \"\"\"\n",
        "    # TODO: Implement\n",
        "    return pad_sequences(x, maxlen=length, padding='post')\n",
        "\n",
        "test_pad(pad)\n",
        "\n",
        "# Pad Tokenized output\n",
        "test_pad = pad(text_tokenized)\n",
        "for sample_i, (token_sent, pad_sent) in enumerate(zip(text_tokenized, test_pad)):\n",
        "    print('Sequence {} in x'.format(sample_i + 1))\n",
        "    print('  Input:  {}'.format(np.array(token_sent)))\n",
        "    print('  Output: {}'.format(pad_sent))"
      ],
      "execution_count": 58,
      "outputs": [
        {
          "output_type": "stream",
          "text": [
            "Sequence 1 in x\n",
            "  Input:  [1 2 4 5 6 7 1 8 9]\n",
            "  Output: [1 2 4 5 6 7 1 8 9 0]\n",
            "Sequence 2 in x\n",
            "  Input:  [10 11 12  2 13 14 15 16  3 17]\n",
            "  Output: [10 11 12  2 13 14 15 16  3 17]\n",
            "Sequence 3 in x\n",
            "  Input:  [18 19  3 20 21]\n",
            "  Output: [18 19  3 20 21  0  0  0  0  0]\n"
          ],
          "name": "stdout"
        }
      ]
    },
    {
      "cell_type": "markdown",
      "metadata": {
        "id": "m-qkbnJNoJkd"
      },
      "source": [
        "Preprocess Pipeline\n",
        "Your focus for this project is to build neural network architecture, so we won't ask you to create a preprocess pipeline. Instead, we've provided you with the implementation of the preprocess function."
      ]
    },
    {
      "cell_type": "code",
      "metadata": {
        "id": "bUASGl_8oQW7",
        "colab": {
          "base_uri": "https://localhost:8080/"
        },
        "outputId": "3362d771-15bd-4ca6-ccfd-f9fc03b53a31"
      },
      "source": [
        "def preprocess(x, y):\n",
        "    \"\"\"\n",
        "    Preprocess x and y\n",
        "    :param x: Feature List of sentences\n",
        "    :param y: Label List of sentences\n",
        "    :return: Tuple of (Preprocessed x, Preprocessed y, x tokenizer, y tokenizer)\n",
        "    \"\"\"\n",
        "    preprocess_x, x_tk = tokenize(x)\n",
        "    preprocess_y, y_tk = tokenize(y)\n",
        "\n",
        "    preprocess_x = pad(preprocess_x)\n",
        "    preprocess_y = pad(preprocess_y)\n",
        "\n",
        "    # Keras's sparse_categorical_crossentropy function requires the labels to be in 3 dimensions\n",
        "    preprocess_y = preprocess_y.reshape(*preprocess_y.shape, 1)\n",
        "\n",
        "    return preprocess_x, preprocess_y, x_tk, y_tk\n",
        "\n",
        "preproc_english_sentences, preproc_yoruba_sentences, english_tokenizer, yoruba_tokenizer =\\\n",
        "    preprocess(english_sentences, yoruba_sentences)\n",
        "    \n",
        "max_english_sequence_length = preproc_english_sentences.shape[1]\n",
        "max_yoruba_sequence_length = preproc_yoruba_sentences.shape[1]\n",
        "english_vocab_size = len(english_tokenizer.word_index)\n",
        "yoruba_vocab_size = len(yoruba_tokenizer.word_index) +1\n",
        "\n",
        "print('Data Preprocessed')\n",
        "print(\"Max English sentence length:\", max_english_sequence_length)\n",
        "print(\"Max yoruba sentence length:\", max_yoruba_sequence_length)\n",
        "print(\"English vocabulary size:\", english_vocab_size)\n",
        "print(\"yoruba vocabulary size:\", yoruba_vocab_size)"
      ],
      "execution_count": 59,
      "outputs": [
        {
          "output_type": "stream",
          "text": [
            "Data Preprocessed\n",
            "Max English sentence length: 903\n",
            "Max yoruba sentence length: 2765\n",
            "English vocabulary size: 52650\n",
            "yoruba vocabulary size: 39565\n"
          ],
          "name": "stdout"
        }
      ]
    },
    {
      "cell_type": "markdown",
      "metadata": {
        "id": "gDECtaUwoWyB"
      },
      "source": [
        "yorubaModels\n",
        "In this section, you will experiment with various neural network architectures. You will begin by training four relatively simple architectures.\n",
        "\n",
        "Model 1 is a simple RNN\n",
        "Model 2 is a RNN with Embedding\n",
        "Model 3 is a Bidirectional RNN\n",
        "Model 4 is an optional Encoder-Decoder RNN\n",
        "After experimenting with the four simple architectures, you will construct a deeper architecture that is designed to outperform all four models.\n",
        "\n",
        "Ids Back to Text\n",
        "The neural network will be translating the input to words ids, which isn't the final form we want. We want the yoruba translation. The function logits_to_text will bridge the gab between the logits from the neural network to the yoruba translation. You'll be using this function to better understand the output of the neural network."
      ]
    },
    {
      "cell_type": "code",
      "metadata": {
        "id": "b-OYSak6ocb-",
        "colab": {
          "base_uri": "https://localhost:8080/"
        },
        "outputId": "dc620ac7-2371-470f-8d83-ee87af302fdf"
      },
      "source": [
        "def logits_to_text(logits, tokenizer):\n",
        "    \"\"\"\n",
        "    Turn logits from a neural network into text using the tokenizer\n",
        "    :param logits: Logits from a neural network\n",
        "    :param tokenizer: Keras Tokenizer fit on the labels\n",
        "    :return: String that represents the text of the logits\n",
        "    \"\"\"\n",
        "    index_to_words = {id: word for word, id in tokenizer.word_index.items()}\n",
        "    index_to_words[0] = '<PAD>'\n",
        "\n",
        "    return ' '.join([index_to_words[prediction] for prediction in np.argmax(logits, 1)])\n",
        "\n",
        "print('`logits_to_text` function loaded.')"
      ],
      "execution_count": 60,
      "outputs": [
        {
          "output_type": "stream",
          "text": [
            "`logits_to_text` function loaded.\n"
          ],
          "name": "stdout"
        }
      ]
    },
    {
      "cell_type": "markdown",
      "metadata": {
        "id": "010oC_1SolG8"
      },
      "source": [
        "Model 1: RNN (IMPLEMENTATION)"
      ]
    },
    {
      "cell_type": "code",
      "metadata": {
        "id": "36Z2JC36ox5z",
        "colab": {
          "base_uri": "https://localhost:8080/"
        },
        "outputId": "b1a97a16-5293-42f2-d011-68f01a806146"
      },
      "source": [
        "def simple_model(input_shape, output_sequence_length, english_vocab_size, yoruba_vocab_size):\n",
        "    \"\"\"\n",
        "    Build and train a basic RNN on x and y\n",
        "    :param input_shape: Tuple of input shape\n",
        "    :param output_sequence_length: Length of output sequence\n",
        "    :param english_vocab_size: Number of unique English words in the dataset\n",
        "    :param yoruba: Number of unique Yoruba words in the dataset\n",
        "    :return: Keras model built, but not trained\n",
        "    \"\"\"\n",
        "    # Hyperparameters\n",
        "    learning_rate = 0.005\n",
        "    \n",
        "    # TODO: Build the layers\n",
        "    model = Sequential()\n",
        "    model.add(GRU(256, input_shape=input_shape[1:], return_sequences=True))\n",
        "    model.add(TimeDistributed(Dense(1024, activation='relu')))\n",
        "    model.add(Dropout(0.5))\n",
        "    model.add(TimeDistributed(Dense(yoruba_vocab_size, activation='softmax'))) \n",
        "\n",
        "    # Compile model\n",
        "    model.compile(loss=sparse_categorical_crossentropy,\n",
        "                  optimizer=Adam(learning_rate),\n",
        "                  metrics=['accuracy'])\n",
        "    return model\n",
        "\n",
        "test_simple_model(simple_model)\n",
        "\n",
        "# Reshaping the input to work with a basic RNN\n",
        "tmp_x = pad(preproc_english_sentences, max_yoruba_sequence_length)\n",
        "tmp_x = tmp_x.reshape((-1, preproc_yoruba_sentences.shape[-2], 1))\n",
        "#tmp_x = tmp_x.reshape((-1, preproc_yoruba_sentences.reshape[1], -1))\n",
        "\n",
        "# Train the neural network\n",
        "simple_rnn_model = simple_model(\n",
        "    tmp_x.shape,\n",
        "    max_yoruba_sequence_length,\n",
        "    english_vocab_size,\n",
        "    yoruba_vocab_size)\n",
        "\n",
        "print(simple_rnn_model.summary())\n",
        "\n",
        "simple_rnn_model.fit(tmp_x, preproc_yoruba_sentences, batch_size=1024, epochs=10, validation_split=0.2)\n",
        "\n",
        "# Print prediction(s)\n",
        "print(logits_to_text(simple_rnn_model.predict(tmp_x[:1])[0], yoruba_tokenizer))"
      ],
      "execution_count": null,
      "outputs": [
        {
          "output_type": "stream",
          "text": [
            "Model: \"sequential_2\"\n",
            "_________________________________________________________________\n",
            "Layer (type)                 Output Shape              Param #   \n",
            "=================================================================\n",
            "gru_2 (GRU)                  (None, 21, 256)           198912    \n",
            "_________________________________________________________________\n",
            "time_distributed_4 (TimeDist (None, 21, 1024)          263168    \n",
            "_________________________________________________________________\n",
            "dropout_2 (Dropout)          (None, 21, 1024)          0         \n",
            "_________________________________________________________________\n",
            "time_distributed_5 (TimeDist (None, 21, 344)           352600    \n",
            "=================================================================\n",
            "Total params: 814,680\n",
            "Trainable params: 814,680\n",
            "Non-trainable params: 0\n",
            "_________________________________________________________________\n",
            "None\n"
          ],
          "name": "stdout"
        }
      ]
    },
    {
      "cell_type": "code",
      "metadata": {
        "id": "-ymhyvy_o-2P"
      },
      "source": [
        "# Print prediction(s)\n",
        "print(\"Prediction:\")\n",
        "print(logits_to_text(simple_rnn_model.predict(tmp_x[:1])[0], yoruba_tokenizer))\n",
        "\n",
        "print(\"\\nCorrect Translation:\")\n",
        "print(yoruba_sentences[:1])\n",
        "\n",
        "print(\"\\nOriginal text:\")\n",
        "print(english_sentences[:1])"
      ],
      "execution_count": null,
      "outputs": []
    },
    {
      "cell_type": "markdown",
      "metadata": {
        "id": "AxU54Kyio96l"
      },
      "source": [
        "Model 2: Embedding (IMPLEMENTATION)\n",
        "You've turned the words into ids, but there's a better representation of a word. This is called word embeddings. An embedding is a vector representation of the word that is close to similar words in n-dimensional space, where the n represents the size of the embedding vectors.\n",
        "\n",
        "In this model, you'll create a RNN model using embedding."
      ]
    },
    {
      "cell_type": "code",
      "metadata": {
        "id": "sO7EfqH8pLpY"
      },
      "source": [
        "def embed_model(input_shape, output_sequence_length, english_vocab_size, yoruba_vocab_size):\n",
        "    \"\"\"\n",
        "    Build and train a RNN model using word embedding on x and y\n",
        "    :param input_shape: Tuple of input shape\n",
        "    :param output_sequence_length: Length of output sequence\n",
        "    :param english_vocab_size: Number of unique English words in the dataset\n",
        "    :param yoruba_vocab_size: Number of unique yoruba words in the dataset\n",
        "    :return: Keras model built, but not trained\n",
        "    \"\"\"\n",
        "    # TODO: Implement\n",
        "\n",
        "    # Hyperparameters\n",
        "    learning_rate = 0.005\n",
        "    \n",
        "    # TODO: Build the layers\n",
        "    model = tf.keras.Sequential()\n",
        "    model.add(Embedding(english_vocab_size, 256, input_length=input_shape[1], input_shape=input_shape[1:]))\n",
        "    model.add(GRU(256, return_sequences=True))    \n",
        "    model.add(TimeDistributed(Dense(1024, activation='relu')))\n",
        "    model.add(Dropout(0.5))\n",
        "    model.add(TimeDistributed(Dense(yoruba_vocab_size, activation='softmax'))) \n",
        "\n",
        "    # Compile model\n",
        "    model.compile(loss=sparse_categorical_crossentropy,\n",
        "                  optimizer=Adam(learning_rate),\n",
        "                  metrics=['accuracy'])\n",
        "    return model\n",
        "\n",
        "test_embed_model(embed_model)\n",
        "\n",
        "# TODO: Reshape the input\n",
        "tmp_x = pad(preproc_english_sentences, preproc_yoruba_sentences.shape[1])\n",
        "tmp_x = tmp_x.reshape((-1, preproc_yoruba_sentences.shape[-2]))\n",
        "\n",
        "# TODO: Train the neural network\n",
        "embed_rnn_model = embed_model(\n",
        "    tmp_x.shape,\n",
        "    preproc_yoruba_sentences.shape[1],\n",
        "    len(english_tokenizer.word_index)+1,\n",
        "    len(yoruba_tokenizer.word_index)+1)\n",
        "\n",
        "embed_rnn_model.summary()\n",
        "\n",
        "embed_rnn_model.fit(tmp_x, preproc_yoruba_sentences, batch_size=1024, epochs=10, validation_split=0.2)\n",
        "\n",
        "# TODO: Print prediction(s)\n",
        "print(logits_to_text(embed_rnn_model.predict(tmp_x[:1])[0], yoruba_tokenizer))"
      ],
      "execution_count": null,
      "outputs": []
    },
    {
      "cell_type": "code",
      "metadata": {
        "id": "iZqXlyeBpmfB"
      },
      "source": [
        "# Print prediction(s)\n",
        "print(\"Prediction:\")\n",
        "print(logits_to_text(embed_rnn_model.predict(tmp_x[:1])[0], yoruba_tokenizer))\n",
        "\n",
        "print(\"\\nCorrect Translation:\")\n",
        "print(yoruba_sentences[:1])\n",
        "\n",
        "print(\"\\nOriginal text:\")\n",
        "print(english_sentences[:1])"
      ],
      "execution_count": null,
      "outputs": []
    },
    {
      "cell_type": "markdown",
      "metadata": {
        "id": "GvBiRAzWpkrr"
      },
      "source": [
        "Model 3: Bidirectional RNNs (IMPLEMENTATION)\n",
        "One restriction of a RNN is that it can't see the future input, only the past. This is where bidirectional recurrent neural networks come in. They are able to see the future data."
      ]
    },
    {
      "cell_type": "code",
      "metadata": {
        "id": "5P_i5pNnp5Kb"
      },
      "source": [
        "def bd_model(input_shape, output_sequence_length, english_vocab_size, yoruba_vocab_size):\n",
        "    \"\"\"\n",
        "    Build and train a bidirectional RNN model on x and y\n",
        "    :param input_shape: Tuple of input shape\n",
        "    :param output_sequence_length: Length of output sequence\n",
        "    :param english_vocab_size: Number of unique English words in the dataset\n",
        "    :param yoruba_vocab_size: Number of unique yoruba words in the dataset\n",
        "    :return: Keras model built, but not trained\n",
        "    \"\"\"\n",
        "    # TODO: Implement\n",
        "\n",
        "    # Hyperparameters\n",
        "    learning_rate = 0.003\n",
        "    \n",
        "    # TODO: Build the layers\n",
        "    model = tf.keras.Sequential()\n",
        "    model.add(Bidirectional(GRU(128, return_sequences=True), input_shape=input_shape[1:]))\n",
        "    model.add(TimeDistributed(Dense(1024, activation='relu')))\n",
        "    model.add(Dropout(0.5))\n",
        "    model.add(TimeDistributed(Dense(yoruba_vocab_size, activation='softmax'))) \n",
        "\n",
        "    # Compile model\n",
        "    model.compile(loss=sparse_categorical_crossentropy,\n",
        "                  optimizer=Adam(learning_rate),\n",
        "                  metrics=['accuracy'])\n",
        "    return model\n",
        "\n",
        "test_bd_model(bd_model)\n",
        "\n",
        "# TODO: Reshape the input\n",
        "tmp_x = pad(preproc_english_sentences, preproc_yoruba_sentences.shape[1])\n",
        "tmp_x = tmp_x.reshape((-1, preproc_yoruba_sentences.shape[-2]))\n",
        "\n",
        "# TODO: Train and Print prediction(s)\n",
        "embed_rnn_model = embed_model(\n",
        "    tmp_x.shape,\n",
        "    preproc_yoruba_sentences.shape[1],\n",
        "    len(english_tokenizer.word_index)+1,\n",
        "    len(yoruba_tokenizer.word_index)+1)\n",
        "\n",
        "embed_rnn_model.summary()\n",
        "\n",
        "embed_rnn_model.fit(tmp_x, preproc_yoruba_sentences, batch_size=1024, epochs=10, validation_split=0.2)\n",
        "\n",
        "print(logits_to_text(embed_rnn_model.predict(tmp_x[:1])[0], yoruba_tokenizer))"
      ],
      "execution_count": null,
      "outputs": []
    },
    {
      "cell_type": "code",
      "metadata": {
        "id": "KSlmID7qqDDq"
      },
      "source": [
        "# Print prediction(s)\n",
        "print(\"Prediction:\")\n",
        "print(logits_to_text(embed_rnn_model.predict(tmp_x[:1])[0], yoruba_tokenizer))\n",
        "\n",
        "print(\"\\nCorrect Translation:\")\n",
        "print(yoruba_sentences[:1])\n",
        "\n",
        "print(\"\\nOriginal text:\")\n",
        "print(english_sentences[:1])"
      ],
      "execution_count": null,
      "outputs": []
    },
    {
      "cell_type": "markdown",
      "metadata": {
        "id": "y2V2rCKhqJpw"
      },
      "source": [
        "Model 4: Encoder-Decoder (OPTIONAL)\n",
        "Time to look at encoder-decoder models. This model is made up of an encoder and decoder. The encoder creates a matrix representation of the sentence. The decoder takes this matrix as input and predicts the translation as output.\n",
        "\n",
        "Create an encoder-decoder model in the cell below."
      ]
    },
    {
      "cell_type": "code",
      "metadata": {
        "id": "y7Ahz5cTqX5d"
      },
      "source": [
        "def encdec_model(input_shape, output_sequence_length, english_vocab_size, yoruba_vocab_size):\n",
        "    \"\"\"\n",
        "    Build and train an encoder-decoder model on x and y\n",
        "    :param input_shape: Tuple of input shape\n",
        "    :param output_sequence_length: Length of output sequence\n",
        "    :param english_vocab_size: Number of unique English words in the dataset\n",
        "    :param yoruba_vocab_size: Number of unique yoruba words in the dataset\n",
        "    :return: Keras model built, but not trained\n",
        "    \"\"\"\n",
        "    # OPTIONAL: Implement\n",
        "    \n",
        "    # Hyperparameters\n",
        "    learning_rate = 0.001\n",
        "    \n",
        "    # Build the layers    \n",
        "    model = tf.keras.Sequential()\n",
        "    # Encoder\n",
        "    model.add(GRU(256, input_shape=input_shape[1:], go_backwards=True))\n",
        "    model.add(RepeatVector(output_sequence_length))\n",
        "    # Decoder\n",
        "    model.add(GRU(256, return_sequences=True))\n",
        "    model.add(TimeDistributed(Dense(1024, activation='relu')))\n",
        "    model.add(Dropout(0.5))\n",
        "    model.add(TimeDistributed(Dense(yoruba_vocab_size, activation='softmax')))\n",
        "\n",
        "    # Compile model\n",
        "    model.compile(loss=sparse_categorical_crossentropy,\n",
        "                  optimizer=Adam(learning_rate),\n",
        "                  metrics=['accuracy'])\n",
        "    \n",
        "    return model\n",
        "\n",
        "tests.test_encdec_model(encdec_model)\n",
        "\n",
        "# Reshape the input\n",
        "tmp_x = pad(preproc_english_sentences, preproc_yoruba_sentences.shape[1])\n",
        "tmp_x = tmp_x.reshape((-1, preproc_yoruba_sentences.shape[-2], 1))\n",
        "\n",
        "# Train and Print prediction(s)\n",
        "encdec_rnn_model = encdec_model(\n",
        "    tmp_x.shape,\n",
        "    preproc_yoruba_sentences.shape[1],\n",
        "    len(english_tokenizer.word_index)+1,\n",
        "    len(yoruba_tokenizer.word_index)+1)\n",
        "\n",
        "encdec_rnn_model.summary()\n",
        "\n",
        "encdec_rnn_model.fit(tmp_x, preproc_yoruba_sentences, batch_size=1024, epochs=10, validation_split=0.2)\n"
      ],
      "execution_count": null,
      "outputs": []
    },
    {
      "cell_type": "code",
      "metadata": {
        "id": "XA5deldfqcAM"
      },
      "source": [
        "# Print prediction(s)\n",
        "print(\"Prediction:\")\n",
        "print(logits_to_text(encdec_rnn_model.predict(tmp_x[:1])[0], yoruba_tokenizer))\n",
        "\n",
        "print(\"\\nCorrect Translation:\")\n",
        "print(yoruba_sentences[:1])\n",
        "\n",
        "print(\"\\nOriginal text:\")\n",
        "print(english_sentences[:1])"
      ],
      "execution_count": null,
      "outputs": []
    },
    {
      "cell_type": "markdown",
      "metadata": {
        "id": "jHbWA9Gpqgn0"
      },
      "source": [
        "Model 5: Custom (IMPLEMENTATION)\n",
        "Use everything you learned from the previous models to create a model that incorporates embedding and a bidirectional rnn into one model."
      ]
    },
    {
      "cell_type": "code",
      "metadata": {
        "id": "ddRxuBX8qnQs"
      },
      "source": [
        "def model_final(input_shape, output_sequence_length, english_vocab_size, yoruba_vocab_size):\n",
        "    \"\"\"\n",
        "    Build and train a model that incorporates embedding, encoder-decoder, and bidirectional RNN on x and y\n",
        "    :param input_shape: Tuple of input shape\n",
        "    :param output_sequence_length: Length of output sequence\n",
        "    :param english_vocab_size: Number of unique English words in the dataset\n",
        "    :param yoruba_vocab_size: Number of unique yoruba words in the dataset\n",
        "    :return: Keras model built, but not trained\n",
        "    \"\"\"\n",
        "    # TODO: Implement\n",
        "\n",
        "    # Hyperparameters\n",
        "    learning_rate = 0.003\n",
        "    \n",
        "    # Build the layers    \n",
        "    model = tf.keras.Sequential()\n",
        "    # Embedding\n",
        "    model.add(Embedding(english_vocab_size, 128, input_length=input_shape[1],\n",
        "                         input_shape=input_shape[1:]))\n",
        "    # Encoder\n",
        "    model.add(Bidirectional(GRU(128)))\n",
        "    model.add(RepeatVector(output_sequence_length))\n",
        "    # Decoder\n",
        "    model.add(Bidirectional(GRU(128, return_sequences=True)))\n",
        "    model.add(TimeDistributed(Dense(512, activation='relu')))\n",
        "    model.add(Dropout(0.5))\n",
        "    model.add(TimeDistributed(Dense(yoruba_vocab_size, activation='softmax')))\n",
        "    model.compile(loss=sparse_categorical_crossentropy,\n",
        "                  optimizer=Adam(learning_rate),\n",
        "                  metrics=['accuracy'])\n",
        "    return model\n",
        "\n",
        "tests.test_model_final(model_final)\n",
        "\n",
        "print('Final Model Loaded')"
      ],
      "execution_count": null,
      "outputs": []
    },
    {
      "cell_type": "markdown",
      "metadata": {
        "id": "MSrtkluEqsl2"
      },
      "source": [
        "Prediction (IMPLEMENTATION)"
      ]
    },
    {
      "cell_type": "code",
      "metadata": {
        "id": "QUIvf1xzq0Ao"
      },
      "source": [
        "def final_predictions(x, y, x_tk, y_tk):\n",
        "    \"\"\"\n",
        "    Gets predictions using the final model\n",
        "    :param x: Preprocessed English data\n",
        "    :param y: Preprocessed yoruba data\n",
        "    :param x_tk: English tokenizer\n",
        "    :param y_tk: yoruba tokenizer\n",
        "    \"\"\"\n",
        "    # TODO: Train neural network using model_final\n",
        "    model = model_final(x.shape,y.shape[1],\n",
        "                        len(x_tk.word_index)+1,\n",
        "                        len(y_tk.word_index)+1)\n",
        "    model.summary()\n",
        "    model.fit(x, y, batch_size=1024, epochs=25, validation_split=0.2)\n",
        "\n",
        "    \n",
        "    ## DON'T EDIT ANYTHING BELOW THIS LINE\n",
        "    y_id_to_word = {value: key for key, value in y_tk.word_index.items()}\n",
        "    y_id_to_word[0] = '<PAD>'\n",
        "\n",
        "    sentence = 'he saw a old yellow truck'\n",
        "    sentence = [x_tk.word_index[word] for word in sentence.split()]\n",
        "    sentence = pad_sequences([sentence], maxlen=x.shape[-1], padding='post')\n",
        "    sentences = np.array([sentence[0], x[0]])\n",
        "    predictions = model.predict(sentences, len(sentences))\n",
        "\n",
        "    print('Sample 1:')\n",
        "    print(' '.join([y_id_to_word[np.argmax(x)] for x in predictions[0]]))\n",
        "    print('Il a vu un vieux camion jaune')\n",
        "    print('Sample 2:')\n",
        "    print(' '.join([y_id_to_word[np.argmax(x)] for x in predictions[1]]))\n",
        "    print(' '.join([y_id_to_word[np.max(x)] for x in y[0]]))\n",
        "\n",
        "\n",
        "final_predictions(preproc_english_sentences, preproc_yoruba_sentences, english_tokenizer, yoruba_tokenizer)"
      ],
      "execution_count": null,
      "outputs": []
    }
  ]
}